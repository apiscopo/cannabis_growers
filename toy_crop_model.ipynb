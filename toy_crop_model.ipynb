{
 "cells": [
  {
   "cell_type": "code",
   "execution_count": 1,
   "id": "84e1c4e3",
   "metadata": {},
   "outputs": [],
   "source": [
    "import numpy as np\n",
    "import pandas as pd\n",
    "from datetime import datetime, timedelta\n",
    "import matplotlib.pyplot as plt"
   ]
  },
  {
   "cell_type": "code",
   "execution_count": 2,
   "id": "6feda958",
   "metadata": {},
   "outputs": [],
   "source": [
    "# parameters\n",
    "simulation_start_year = 2021\n",
    "weeks_off_bt_crops = 2"
   ]
  },
  {
   "cell_type": "code",
   "execution_count": 3,
   "id": "dad3f588",
   "metadata": {},
   "outputs": [],
   "source": [
    "df_G = pd.read_csv(\"grower_list.csv\")"
   ]
  },
  {
   "cell_type": "code",
   "execution_count": 4,
   "id": "6153a0ba",
   "metadata": {},
   "outputs": [
    {
     "data": {
      "text/html": [
       "<div>\n",
       "<style scoped>\n",
       "    .dataframe tbody tr th:only-of-type {\n",
       "        vertical-align: middle;\n",
       "    }\n",
       "\n",
       "    .dataframe tbody tr th {\n",
       "        vertical-align: top;\n",
       "    }\n",
       "\n",
       "    .dataframe thead th {\n",
       "        text-align: right;\n",
       "    }\n",
       "</style>\n",
       "<table border=\"1\" class=\"dataframe\">\n",
       "  <thead>\n",
       "    <tr style=\"text-align: right;\">\n",
       "      <th></th>\n",
       "      <th>Site No.</th>\n",
       "      <th>Address</th>\n",
       "      <th>Med_Rec</th>\n",
       "      <th>Grower Class</th>\n",
       "      <th>Num Plants</th>\n",
       "    </tr>\n",
       "  </thead>\n",
       "  <tbody>\n",
       "    <tr>\n",
       "      <th>0</th>\n",
       "      <td>1</td>\n",
       "      <td>1680 B Marquette Avenue Bay City, MI</td>\n",
       "      <td>Medical</td>\n",
       "      <td>C</td>\n",
       "      <td>1500</td>\n",
       "    </tr>\n",
       "    <tr>\n",
       "      <th>1</th>\n",
       "      <td>2</td>\n",
       "      <td>1204 West US Highway 2 Germfask, MI</td>\n",
       "      <td>Medical</td>\n",
       "      <td>C</td>\n",
       "      <td>1500</td>\n",
       "    </tr>\n",
       "    <tr>\n",
       "      <th>2</th>\n",
       "      <td>3</td>\n",
       "      <td>1230 Mason Court Webberville, MI</td>\n",
       "      <td>Medical</td>\n",
       "      <td>C</td>\n",
       "      <td>1500</td>\n",
       "    </tr>\n",
       "    <tr>\n",
       "      <th>3</th>\n",
       "      <td>4</td>\n",
       "      <td>34280 56th Street Bangor, MI</td>\n",
       "      <td>Medical</td>\n",
       "      <td>C</td>\n",
       "      <td>1500</td>\n",
       "    </tr>\n",
       "    <tr>\n",
       "      <th>4</th>\n",
       "      <td>5</td>\n",
       "      <td>21055 E M48 Detour, MI</td>\n",
       "      <td>Medical</td>\n",
       "      <td>C</td>\n",
       "      <td>1500</td>\n",
       "    </tr>\n",
       "  </tbody>\n",
       "</table>\n",
       "</div>"
      ],
      "text/plain": [
       "   Site No.                               Address  Med_Rec Grower Class  \\\n",
       "0         1  1680 B Marquette Avenue Bay City, MI  Medical            C   \n",
       "1         2   1204 West US Highway 2 Germfask, MI  Medical            C   \n",
       "2         3      1230 Mason Court Webberville, MI  Medical            C   \n",
       "3         4          34280 56th Street Bangor, MI  Medical            C   \n",
       "4         5                21055 E M48 Detour, MI  Medical            C   \n",
       "\n",
       "   Num Plants  \n",
       "0        1500  \n",
       "1        1500  \n",
       "2        1500  \n",
       "3        1500  \n",
       "4        1500  "
      ]
     },
     "execution_count": 4,
     "metadata": {},
     "output_type": "execute_result"
    }
   ],
   "source": [
    "df_G.head()"
   ]
  },
  {
   "cell_type": "code",
   "execution_count": 5,
   "id": "559cefc5",
   "metadata": {},
   "outputs": [],
   "source": [
    "df_A = pd.read_csv(\"assumptions.csv\")"
   ]
  },
  {
   "cell_type": "code",
   "execution_count": 6,
   "id": "1cf63474",
   "metadata": {},
   "outputs": [
    {
     "data": {
      "text/html": [
       "<div>\n",
       "<style scoped>\n",
       "    .dataframe tbody tr th:only-of-type {\n",
       "        vertical-align: middle;\n",
       "    }\n",
       "\n",
       "    .dataframe tbody tr th {\n",
       "        vertical-align: top;\n",
       "    }\n",
       "\n",
       "    .dataframe thead th {\n",
       "        text-align: right;\n",
       "    }\n",
       "</style>\n",
       "<table border=\"1\" class=\"dataframe\">\n",
       "  <thead>\n",
       "    <tr style=\"text-align: right;\">\n",
       "      <th></th>\n",
       "      <th>#</th>\n",
       "      <th>Grow type</th>\n",
       "      <th>Weeks to harvest (low)</th>\n",
       "      <th>Weeks to harvest (high)</th>\n",
       "      <th>Begin week (low)</th>\n",
       "      <th>Begin week (high)</th>\n",
       "      <th>Ounces per plant (low)</th>\n",
       "      <th>Ounces per plant (high)</th>\n",
       "    </tr>\n",
       "  </thead>\n",
       "  <tbody>\n",
       "    <tr>\n",
       "      <th>0</th>\n",
       "      <td>1</td>\n",
       "      <td>Outdoor</td>\n",
       "      <td>24</td>\n",
       "      <td>32</td>\n",
       "      <td>13</td>\n",
       "      <td>24</td>\n",
       "      <td>10</td>\n",
       "      <td>17</td>\n",
       "    </tr>\n",
       "    <tr>\n",
       "      <th>1</th>\n",
       "      <td>2</td>\n",
       "      <td>Indoor - seed</td>\n",
       "      <td>12</td>\n",
       "      <td>16</td>\n",
       "      <td>1</td>\n",
       "      <td>27</td>\n",
       "      <td>5</td>\n",
       "      <td>15</td>\n",
       "    </tr>\n",
       "    <tr>\n",
       "      <th>2</th>\n",
       "      <td>3</td>\n",
       "      <td>Indoor - clone</td>\n",
       "      <td>9</td>\n",
       "      <td>16</td>\n",
       "      <td>1</td>\n",
       "      <td>24</td>\n",
       "      <td>5</td>\n",
       "      <td>15</td>\n",
       "    </tr>\n",
       "  </tbody>\n",
       "</table>\n",
       "</div>"
      ],
      "text/plain": [
       "   #       Grow type  Weeks to harvest (low)  Weeks to harvest (high)  \\\n",
       "0  1         Outdoor                      24                       32   \n",
       "1  2   Indoor - seed                      12                       16   \n",
       "2  3  Indoor - clone                       9                       16   \n",
       "\n",
       "   Begin week (low)  Begin week (high)  Ounces per plant (low)  \\\n",
       "0                13                 24                      10   \n",
       "1                 1                 27                       5   \n",
       "2                 1                 24                       5   \n",
       "\n",
       "   Ounces per plant (high)  \n",
       "0                       17  \n",
       "1                       15  \n",
       "2                       15  "
      ]
     },
     "execution_count": 6,
     "metadata": {},
     "output_type": "execute_result"
    }
   ],
   "source": [
    "df_A"
   ]
  },
  {
   "cell_type": "code",
   "execution_count": 7,
   "id": "8c1fba74",
   "metadata": {},
   "outputs": [],
   "source": [
    "np.random.seed(int(datetime.now().timestamp()))"
   ]
  },
  {
   "cell_type": "code",
   "execution_count": 8,
   "id": "cf04390d",
   "metadata": {},
   "outputs": [],
   "source": [
    "random = np.random.randint(0, 3, size=len(df_G))  # 0 = Outdoor, 1 = Indoor-seed, 2 = Indoor-clone"
   ]
  },
  {
   "cell_type": "code",
   "execution_count": 9,
   "id": "f0c5bf24",
   "metadata": {},
   "outputs": [],
   "source": [
    "def cycle_outin(crop_type):\n",
    "    \n",
    "    start_week = []; grow_duration = []; plant_size = [];\n",
    "    \n",
    "    for i in crop_type:\n",
    "        start_week.append(np.random.randint(df_A['Begin week (low)'][i], df_A['Begin week (high)'][i])) \n",
    "        grow_duration.append(np.random.normal(np.mean([df_A['Weeks to harvest (low)'][i], df_A['Weeks to harvest (high)'][i]])))\n",
    "        plant_size.append(np.random.normal(np.mean([df_A['Ounces per plant (low)'][i], df_A['Ounces per plant (high)'][i]])))\n",
    "    \n",
    "    harvest_time = [start_week[i] + grow_duration[i] for i in np.arange(len(crop_type))]\n",
    "    harvest_week = [round(h) for h in harvest_time]\n",
    "    return harvest_week, plant_size"
   ]
  },
  {
   "cell_type": "code",
   "execution_count": 10,
   "id": "a0a02422",
   "metadata": {},
   "outputs": [],
   "source": [
    "def cycle_in(crop_type, start_date):\n",
    "    \n",
    "    grow_duration = []; plant_size = [];\n",
    "    \n",
    "    for i in crop_type:\n",
    "        grow_duration.append(timedelta(weeks=(np.random.normal(np.mean([df_A['Weeks to harvest (low)'][i], df_A['Weeks to harvest (high)'][i]])))))\n",
    "        plant_size.append(np.random.normal(np.mean([df_A['Ounces per plant (low)'][i], df_A['Ounces per plant (high)'][i]])))\n",
    "            \n",
    "    harvest_date = [start_date[i] + grow_duration[i] for i in np.arange(len(crop_type))]\n",
    "\n",
    "    return harvest_date, plant_size"
   ]
  },
  {
   "cell_type": "code",
   "execution_count": 11,
   "id": "9d17c316",
   "metadata": {},
   "outputs": [],
   "source": [
    "harvest_week, plant_size = cycle_outin(random)   # randomly select which growers are outdoor or indoor"
   ]
  },
  {
   "cell_type": "code",
   "execution_count": 12,
   "id": "dda22e5b",
   "metadata": {},
   "outputs": [],
   "source": [
    "from datetime import date\n",
    "# convert week integers to dates\n",
    "harvest_dates = []  \n",
    "for w in harvest_week:\n",
    "    y = simulation_start_year + int(w / 52)  # int truncates\n",
    "    w = w % 52 + 1  # +1 for first week, because can't have week=0 in the iso func below\n",
    "    harvest_dates.append(date.fromisocalendar(y, w, 1))  # (year, week, day of week)"
   ]
  },
  {
   "cell_type": "code",
   "execution_count": 13,
   "id": "87175dca",
   "metadata": {},
   "outputs": [],
   "source": [
    "df_G['Harvest Date'] = harvest_dates\n",
    "df_G['Plant Oz'] = plant_size\n",
    "df_G['Crop Type'] = random"
   ]
  },
  {
   "cell_type": "code",
   "execution_count": 14,
   "id": "56ed7cf3",
   "metadata": {},
   "outputs": [
    {
     "data": {
      "text/html": [
       "<div>\n",
       "<style scoped>\n",
       "    .dataframe tbody tr th:only-of-type {\n",
       "        vertical-align: middle;\n",
       "    }\n",
       "\n",
       "    .dataframe tbody tr th {\n",
       "        vertical-align: top;\n",
       "    }\n",
       "\n",
       "    .dataframe thead th {\n",
       "        text-align: right;\n",
       "    }\n",
       "</style>\n",
       "<table border=\"1\" class=\"dataframe\">\n",
       "  <thead>\n",
       "    <tr style=\"text-align: right;\">\n",
       "      <th></th>\n",
       "      <th>Site No.</th>\n",
       "      <th>Address</th>\n",
       "      <th>Med_Rec</th>\n",
       "      <th>Grower Class</th>\n",
       "      <th>Num Plants</th>\n",
       "      <th>Harvest Date</th>\n",
       "      <th>Plant Oz</th>\n",
       "      <th>Crop Type</th>\n",
       "    </tr>\n",
       "  </thead>\n",
       "  <tbody>\n",
       "    <tr>\n",
       "      <th>68</th>\n",
       "      <td>69</td>\n",
       "      <td>16100 Washburne Road Grass Lake, MI</td>\n",
       "      <td>Medical</td>\n",
       "      <td>A</td>\n",
       "      <td>500</td>\n",
       "      <td>2021-03-29</td>\n",
       "      <td>10.394277</td>\n",
       "      <td>2</td>\n",
       "    </tr>\n",
       "    <tr>\n",
       "      <th>151</th>\n",
       "      <td>152</td>\n",
       "      <td>23295 Blackstone Avenue Warren, MI</td>\n",
       "      <td>Medical</td>\n",
       "      <td>A</td>\n",
       "      <td>500</td>\n",
       "      <td>2021-03-29</td>\n",
       "      <td>8.342023</td>\n",
       "      <td>2</td>\n",
       "    </tr>\n",
       "    <tr>\n",
       "      <th>107</th>\n",
       "      <td>108</td>\n",
       "      <td>3323 Associates Drive Burton, MI</td>\n",
       "      <td>Medical</td>\n",
       "      <td>C</td>\n",
       "      <td>1500</td>\n",
       "      <td>2021-04-05</td>\n",
       "      <td>11.112260</td>\n",
       "      <td>1</td>\n",
       "    </tr>\n",
       "    <tr>\n",
       "      <th>300</th>\n",
       "      <td>301</td>\n",
       "      <td>523 West 9 Mile RD Hazel Park,MI 48030</td>\n",
       "      <td>Adult</td>\n",
       "      <td>C</td>\n",
       "      <td>1500</td>\n",
       "      <td>2021-04-05</td>\n",
       "      <td>10.831441</td>\n",
       "      <td>2</td>\n",
       "    </tr>\n",
       "    <tr>\n",
       "      <th>79</th>\n",
       "      <td>80</td>\n",
       "      <td>2300 Spikes Lane Lansing, MI</td>\n",
       "      <td>Medical</td>\n",
       "      <td>B</td>\n",
       "      <td>1000</td>\n",
       "      <td>2021-04-05</td>\n",
       "      <td>8.925450</td>\n",
       "      <td>2</td>\n",
       "    </tr>\n",
       "  </tbody>\n",
       "</table>\n",
       "</div>"
      ],
      "text/plain": [
       "     Site No.                                 Address  Med_Rec Grower Class  \\\n",
       "68         69     16100 Washburne Road Grass Lake, MI  Medical            A   \n",
       "151       152      23295 Blackstone Avenue Warren, MI  Medical            A   \n",
       "107       108        3323 Associates Drive Burton, MI  Medical            C   \n",
       "300       301  523 West 9 Mile RD Hazel Park,MI 48030    Adult            C   \n",
       "79         80            2300 Spikes Lane Lansing, MI  Medical            B   \n",
       "\n",
       "     Num Plants Harvest Date   Plant Oz  Crop Type  \n",
       "68          500   2021-03-29  10.394277          2  \n",
       "151         500   2021-03-29   8.342023          2  \n",
       "107        1500   2021-04-05  11.112260          1  \n",
       "300        1500   2021-04-05  10.831441          2  \n",
       "79         1000   2021-04-05   8.925450          2  "
      ]
     },
     "execution_count": 14,
     "metadata": {},
     "output_type": "execute_result"
    }
   ],
   "source": [
    "df_G.sort_values(by=['Harvest Date']).head()"
   ]
  },
  {
   "cell_type": "code",
   "execution_count": 15,
   "id": "5f7ccd41",
   "metadata": {},
   "outputs": [],
   "source": [
    "# new df of indoor growers\n",
    "df_in = df_G[df_G['Crop Type'] > 0]\n",
    "start_date = (df_in['Harvest Date'] + timedelta(weeks = weeks_off_bt_crops)).values.tolist()  # second round start dates \n",
    "df_in = df_in.drop(['Harvest Date', 'Plant Oz'], axis=1)  # drop these columns because going to simulate a second time"
   ]
  },
  {
   "cell_type": "code",
   "execution_count": 16,
   "id": "3d3a3e1e",
   "metadata": {},
   "outputs": [],
   "source": [
    "harvest_dates, plant_size = cycle_in(df_in['Crop Type'].values.tolist(), start_date)"
   ]
  },
  {
   "cell_type": "code",
   "execution_count": 17,
   "id": "c1e81a3a",
   "metadata": {},
   "outputs": [],
   "source": [
    "df_in['Harvest Date'] = harvest_dates  # put new dates and plant sizes back in df\n",
    "df_in['Plant Oz'] = plant_size"
   ]
  },
  {
   "cell_type": "code",
   "execution_count": 18,
   "id": "fd9138be",
   "metadata": {},
   "outputs": [],
   "source": [
    "df_all = pd.concat([df_G, df_in], axis=0)"
   ]
  },
  {
   "cell_type": "code",
   "execution_count": 19,
   "id": "f749295b",
   "metadata": {},
   "outputs": [],
   "source": [
    "df_all['Harvest Amnt'] = df_all['Plant Oz'] * df_all['Num Plants']"
   ]
  },
  {
   "cell_type": "code",
   "execution_count": 20,
   "id": "4412aec3",
   "metadata": {},
   "outputs": [],
   "source": [
    "df_all['Harvest Month'] = df_all['Harvest Date'].apply(lambda x: x.strftime('%Y-%m'))\n",
    "df_plot = df_all.groupby(by=['Harvest Month'])['Harvest Amnt'].sum().reset_index()"
   ]
  },
  {
   "cell_type": "code",
   "execution_count": 21,
   "id": "24982b56",
   "metadata": {},
   "outputs": [
    {
     "data": {
      "text/plain": [
       "'2022-02'"
      ]
     },
     "execution_count": 21,
     "metadata": {},
     "output_type": "execute_result"
    }
   ],
   "source": [
    "df_all['Harvest Month'].max()"
   ]
  },
  {
   "cell_type": "code",
   "execution_count": 22,
   "id": "c0d6c982",
   "metadata": {},
   "outputs": [
    {
     "data": {
      "text/plain": [
       "Text(0, 0.5, 'Oz of Plant Harvested')"
      ]
     },
     "execution_count": 22,
     "metadata": {},
     "output_type": "execute_result"
    },
    {
     "data": {
      "image/png": "[encoded data removed]",
      "text/plain": [
       "<Figure size 432x288 with 1 Axes>"
      ]
     },
     "metadata": {
      "needs_background": "light"
     },
     "output_type": "display_data"
    }
   ],
   "source": [
    "plt.bar(df_plot['Harvest Month'], df_plot['Harvest Amnt'])\n",
    "plt.xlabel(\"Time\")\n",
    "plt.ylabel(\"Oz of Plant Harvested\")"
   ]
  },
  {
   "cell_type": "code",
   "execution_count": 23,
   "id": "6d387b3c",
   "metadata": {},
   "outputs": [],
   "source": [
    "df_out_in_in = df_all[df_all['Crop Type'] == 1]"
   ]
  },
  {
   "cell_type": "code",
   "execution_count": 24,
   "id": "232c7578",
   "metadata": {},
   "outputs": [
    {
     "data": {
      "text/plain": [
       "Text(0, 0.5, 'Ounces of Plant Harvested')"
      ]
     },
     "execution_count": 24,
     "metadata": {},
     "output_type": "execute_result"
    },
    {
     "data": {
      "image/png": "[encoded data removed]",
      "text/plain": [
       "<Figure size 432x288 with 1 Axes>"
      ]
     },
     "metadata": {
      "needs_background": "light"
     },
     "output_type": "display_data"
    }
   ],
   "source": [
    "plt.bar(df_out_in_in['Harvest Date'], df_out_in_in['Harvest Amnt']); plt.xlabel(\"Week of Year\"); plt.ylabel(\"Ounces of Plant Harvested\")"
   ]
  },
  {
   "cell_type": "code",
   "execution_count": null,
   "id": "49722d76",
   "metadata": {},
   "outputs": [],
   "source": []
  },
  {
   "cell_type": "code",
   "execution_count": null,
   "id": "c135baba",
   "metadata": {},
   "outputs": [],
   "source": []
  }
 ],
 "metadata": {
  "kernelspec": {
   "display_name": "Python 3 (ipykernel)",
   "language": "python",
   "name": "python3"
  },
  "language_info": {
   "codemirror_mode": {
    "name": "ipython",
    "version": 3
   },
   "file_extension": ".py",
   "mimetype": "text/x-python",
   "name": "python",
   "nbconvert_exporter": "python",
   "pygments_lexer": "ipython3",
   "version": "3.9.7"
  }
 },
 "nbformat": 4,
 "nbformat_minor": 5
}
