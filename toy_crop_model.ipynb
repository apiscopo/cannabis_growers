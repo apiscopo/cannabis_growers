{
 "cells": [
  {
   "cell_type": "code",
   "execution_count": 1,
   "id": "3d0fcd05",
   "metadata": {},
   "outputs": [],
   "source": [
    "import numpy as np\n",
    "import pandas as pd\n",
    "from datetime import datetime, timedelta\n",
    "import matplotlib.pyplot as plt"
   ]
  },
  {
   "cell_type": "code",
   "execution_count": 2,
   "id": "4c6f1f01",
   "metadata": {},
   "outputs": [],
   "source": [
    "# parameters\n",
    "simulation_start_year = 2021\n",
    "simulation_end_year_string = \"2022-11-01\" \n",
    "format = \"%Y-%m-%d\"\n",
    "simulation_end_year = datetime.strptime(simulation_end_year_string, format)\n",
    "weeks_off_bt_crops = 2\n",
    "actual_yield_percentage = 0.87"
   ]
  },
  {
   "cell_type": "code",
   "execution_count": 3,
   "id": "2ed0a637",
   "metadata": {},
   "outputs": [],
   "source": [
    "df_G = pd.read_csv(\"grower_list.csv\")"
   ]
  },
  {
   "cell_type": "code",
   "execution_count": 4,
   "id": "bd62ee14",
   "metadata": {},
   "outputs": [
    {
     "data": {
      "text/html": [
       "<div>\n",
       "<style scoped>\n",
       "    .dataframe tbody tr th:only-of-type {\n",
       "        vertical-align: middle;\n",
       "    }\n",
       "\n",
       "    .dataframe tbody tr th {\n",
       "        vertical-align: top;\n",
       "    }\n",
       "\n",
       "    .dataframe thead th {\n",
       "        text-align: right;\n",
       "    }\n",
       "</style>\n",
       "<table border=\"1\" class=\"dataframe\">\n",
       "  <thead>\n",
       "    <tr style=\"text-align: right;\">\n",
       "      <th></th>\n",
       "      <th>Site No.</th>\n",
       "      <th>Address</th>\n",
       "      <th>Med_Rec</th>\n",
       "      <th>Grower Class</th>\n",
       "      <th>Num Plants</th>\n",
       "    </tr>\n",
       "  </thead>\n",
       "  <tbody>\n",
       "    <tr>\n",
       "      <th>0</th>\n",
       "      <td>1</td>\n",
       "      <td>1680 B Marquette Avenue Bay City, MI</td>\n",
       "      <td>Medical</td>\n",
       "      <td>C</td>\n",
       "      <td>1500</td>\n",
       "    </tr>\n",
       "    <tr>\n",
       "      <th>1</th>\n",
       "      <td>2</td>\n",
       "      <td>1204 West US Highway 2 Germfask, MI</td>\n",
       "      <td>Medical</td>\n",
       "      <td>C</td>\n",
       "      <td>1500</td>\n",
       "    </tr>\n",
       "    <tr>\n",
       "      <th>2</th>\n",
       "      <td>3</td>\n",
       "      <td>1230 Mason Court Webberville, MI</td>\n",
       "      <td>Medical</td>\n",
       "      <td>C</td>\n",
       "      <td>1500</td>\n",
       "    </tr>\n",
       "    <tr>\n",
       "      <th>3</th>\n",
       "      <td>4</td>\n",
       "      <td>34280 56th Street Bangor, MI</td>\n",
       "      <td>Medical</td>\n",
       "      <td>C</td>\n",
       "      <td>1500</td>\n",
       "    </tr>\n",
       "    <tr>\n",
       "      <th>4</th>\n",
       "      <td>5</td>\n",
       "      <td>21055 E M48 Detour, MI</td>\n",
       "      <td>Medical</td>\n",
       "      <td>C</td>\n",
       "      <td>1500</td>\n",
       "    </tr>\n",
       "  </tbody>\n",
       "</table>\n",
       "</div>"
      ],
      "text/plain": [
       "   Site No.                               Address  Med_Rec Grower Class  \\\n",
       "0         1  1680 B Marquette Avenue Bay City, MI  Medical            C   \n",
       "1         2   1204 West US Highway 2 Germfask, MI  Medical            C   \n",
       "2         3      1230 Mason Court Webberville, MI  Medical            C   \n",
       "3         4          34280 56th Street Bangor, MI  Medical            C   \n",
       "4         5                21055 E M48 Detour, MI  Medical            C   \n",
       "\n",
       "   Num Plants  \n",
       "0        1500  \n",
       "1        1500  \n",
       "2        1500  \n",
       "3        1500  \n",
       "4        1500  "
      ]
     },
     "execution_count": 4,
     "metadata": {},
     "output_type": "execute_result"
    }
   ],
   "source": [
    "df_G.head()"
   ]
  },
  {
   "cell_type": "code",
   "execution_count": 5,
   "id": "c11d61ec",
   "metadata": {},
   "outputs": [],
   "source": [
    "df_A = pd.read_csv(\"assumptions.csv\")"
   ]
  },
  {
   "cell_type": "code",
   "execution_count": 6,
   "id": "c167a751",
   "metadata": {},
   "outputs": [
    {
     "data": {
      "text/html": [
       "<div>\n",
       "<style scoped>\n",
       "    .dataframe tbody tr th:only-of-type {\n",
       "        vertical-align: middle;\n",
       "    }\n",
       "\n",
       "    .dataframe tbody tr th {\n",
       "        vertical-align: top;\n",
       "    }\n",
       "\n",
       "    .dataframe thead th {\n",
       "        text-align: right;\n",
       "    }\n",
       "</style>\n",
       "<table border=\"1\" class=\"dataframe\">\n",
       "  <thead>\n",
       "    <tr style=\"text-align: right;\">\n",
       "      <th></th>\n",
       "      <th>#</th>\n",
       "      <th>Grow type</th>\n",
       "      <th>Weeks to harvest (low)</th>\n",
       "      <th>Weeks to harvest (high)</th>\n",
       "      <th>Begin week (low)</th>\n",
       "      <th>Begin week (high)</th>\n",
       "      <th>Ounces per plant (low)</th>\n",
       "      <th>Ounces per plant (high)</th>\n",
       "    </tr>\n",
       "  </thead>\n",
       "  <tbody>\n",
       "    <tr>\n",
       "      <th>0</th>\n",
       "      <td>1</td>\n",
       "      <td>Outdoor</td>\n",
       "      <td>24</td>\n",
       "      <td>32</td>\n",
       "      <td>13</td>\n",
       "      <td>24</td>\n",
       "      <td>10</td>\n",
       "      <td>17</td>\n",
       "    </tr>\n",
       "    <tr>\n",
       "      <th>1</th>\n",
       "      <td>2</td>\n",
       "      <td>Indoor - seed</td>\n",
       "      <td>12</td>\n",
       "      <td>16</td>\n",
       "      <td>1</td>\n",
       "      <td>27</td>\n",
       "      <td>5</td>\n",
       "      <td>15</td>\n",
       "    </tr>\n",
       "    <tr>\n",
       "      <th>2</th>\n",
       "      <td>3</td>\n",
       "      <td>Indoor - clone</td>\n",
       "      <td>9</td>\n",
       "      <td>16</td>\n",
       "      <td>1</td>\n",
       "      <td>24</td>\n",
       "      <td>5</td>\n",
       "      <td>15</td>\n",
       "    </tr>\n",
       "  </tbody>\n",
       "</table>\n",
       "</div>"
      ],
      "text/plain": [
       "   #       Grow type  Weeks to harvest (low)  Weeks to harvest (high)  \\\n",
       "0  1         Outdoor                      24                       32   \n",
       "1  2   Indoor - seed                      12                       16   \n",
       "2  3  Indoor - clone                       9                       16   \n",
       "\n",
       "   Begin week (low)  Begin week (high)  Ounces per plant (low)  \\\n",
       "0                13                 24                      10   \n",
       "1                 1                 27                       5   \n",
       "2                 1                 24                       5   \n",
       "\n",
       "   Ounces per plant (high)  \n",
       "0                       17  \n",
       "1                       15  \n",
       "2                       15  "
      ]
     },
     "execution_count": 6,
     "metadata": {},
     "output_type": "execute_result"
    }
   ],
   "source": [
    "df_A"
   ]
  },
  {
   "cell_type": "code",
   "execution_count": 7,
   "id": "b574cb6e",
   "metadata": {},
   "outputs": [],
   "source": [
    "np.random.seed(int(datetime.now().timestamp()))"
   ]
  },
  {
   "cell_type": "code",
   "execution_count": 8,
   "id": "a5e19fc2",
   "metadata": {},
   "outputs": [],
   "source": [
    "random = np.random.randint(0, 3, size=len(df_G))  # 0 = Outdoor, 1 = Indoor-seed, 2 = Indoor-clone"
   ]
  },
  {
   "cell_type": "code",
   "execution_count": 9,
   "id": "fbe13baa",
   "metadata": {},
   "outputs": [],
   "source": [
    "# function to run one grow cycle for both indoor and outdoor crops\n",
    "def cycle_initial(crop_type):\n",
    "    \n",
    "    start_week = []; grow_duration = []; plant_size = [];\n",
    "    \n",
    "    for i in crop_type:\n",
    "        start_week.append(np.random.randint(df_A['Begin week (low)'][i], df_A['Begin week (high)'][i])) \n",
    "        grow_duration.append(np.random.normal(np.mean([df_A['Weeks to harvest (low)'][i], df_A['Weeks to harvest (high)'][i]])))\n",
    "        plant_size.append(np.random.normal(np.mean([df_A['Ounces per plant (low)'][i], df_A['Ounces per plant (high)'][i]])))\n",
    "    \n",
    "    harvest_time = [start_week[i] + grow_duration[i] for i in np.arange(len(crop_type))]\n",
    "    harvest_week = [round(h) for h in harvest_time]\n",
    "    return harvest_week, plant_size"
   ]
  },
  {
   "cell_type": "code",
   "execution_count": 10,
   "id": "3e427060",
   "metadata": {},
   "outputs": [],
   "source": [
    "harvest_week, plant_size = cycle_initial(random)   # randomly select which growers are outdoor or indoor"
   ]
  },
  {
   "cell_type": "code",
   "execution_count": 11,
   "id": "c3f21fe7",
   "metadata": {},
   "outputs": [],
   "source": [
    "# convert week integers to dates\n",
    "harvest_dates = []  \n",
    "for w in harvest_week:\n",
    "    y = simulation_start_year + int(w / 52)  # int truncates\n",
    "    w = w % 52 + 1  # +1 for first week, because can't have week=0 in the iso func below\n",
    "    harvest_dates.append(datetime.fromisocalendar(y, w, 1))  # (year, week, day of week)"
   ]
  },
  {
   "cell_type": "code",
   "execution_count": 12,
   "id": "bd6a82c3",
   "metadata": {},
   "outputs": [
    {
     "name": "stdout",
     "output_type": "stream",
     "text": [
      "<class 'datetime.datetime'>\n",
      "0   2021-06-28\n",
      "1   2021-05-17\n",
      "2   2021-11-29\n",
      "3   2021-11-29\n",
      "4   2021-08-09\n",
      "Name: Harvest Date, dtype: datetime64[ns]\n",
      "<class 'datetime.datetime'>\n",
      "<class 'pandas.core.series.Series'>\n",
      "0     2021-07-19\n",
      "1     2021-06-07\n",
      "2     2021-12-20\n",
      "3     2021-12-20\n",
      "4     2021-08-30\n",
      "         ...    \n",
      "319   2021-06-14\n",
      "320   2021-11-22\n",
      "321   2021-07-05\n",
      "322   2021-12-13\n",
      "323   2021-12-20\n",
      "Name: Harvest Date, Length: 324, dtype: datetime64[ns]\n"
     ]
    }
   ],
   "source": [
    "df_G['Harvest Date'] = harvest_dates\n",
    "print(type(harvest_dates[0]))\n",
    "print(df_G['Harvest Date'].head())\n",
    "\n",
    "temp = harvest_dates[0] + timedelta(weeks=3)\n",
    "temp_ser = df_G['Harvest Date'] + timedelta(weeks=3)\n",
    "print(type(temp))\n",
    "print(type(temp_ser))\n",
    "print(temp_ser)\n",
    "\n",
    "df_G['Plant Oz'] = plant_size\n",
    "df_G['Crop Type'] = random"
   ]
  },
  {
   "cell_type": "code",
   "execution_count": 13,
   "id": "6c42a5f6",
   "metadata": {},
   "outputs": [
    {
     "data": {
      "text/html": [
       "<div>\n",
       "<style scoped>\n",
       "    .dataframe tbody tr th:only-of-type {\n",
       "        vertical-align: middle;\n",
       "    }\n",
       "\n",
       "    .dataframe tbody tr th {\n",
       "        vertical-align: top;\n",
       "    }\n",
       "\n",
       "    .dataframe thead th {\n",
       "        text-align: right;\n",
       "    }\n",
       "</style>\n",
       "<table border=\"1\" class=\"dataframe\">\n",
       "  <thead>\n",
       "    <tr style=\"text-align: right;\">\n",
       "      <th></th>\n",
       "      <th>Site No.</th>\n",
       "      <th>Address</th>\n",
       "      <th>Med_Rec</th>\n",
       "      <th>Grower Class</th>\n",
       "      <th>Num Plants</th>\n",
       "      <th>Harvest Date</th>\n",
       "      <th>Plant Oz</th>\n",
       "      <th>Crop Type</th>\n",
       "    </tr>\n",
       "  </thead>\n",
       "  <tbody>\n",
       "    <tr>\n",
       "      <th>0</th>\n",
       "      <td>1</td>\n",
       "      <td>1680 B Marquette Avenue Bay City, MI</td>\n",
       "      <td>Medical</td>\n",
       "      <td>C</td>\n",
       "      <td>1500</td>\n",
       "      <td>2021-06-28</td>\n",
       "      <td>9.789889</td>\n",
       "      <td>2</td>\n",
       "    </tr>\n",
       "    <tr>\n",
       "      <th>1</th>\n",
       "      <td>2</td>\n",
       "      <td>1204 West US Highway 2 Germfask, MI</td>\n",
       "      <td>Medical</td>\n",
       "      <td>C</td>\n",
       "      <td>1500</td>\n",
       "      <td>2021-05-17</td>\n",
       "      <td>10.198318</td>\n",
       "      <td>1</td>\n",
       "    </tr>\n",
       "    <tr>\n",
       "      <th>2</th>\n",
       "      <td>3</td>\n",
       "      <td>1230 Mason Court Webberville, MI</td>\n",
       "      <td>Medical</td>\n",
       "      <td>C</td>\n",
       "      <td>1500</td>\n",
       "      <td>2021-11-29</td>\n",
       "      <td>14.138249</td>\n",
       "      <td>0</td>\n",
       "    </tr>\n",
       "    <tr>\n",
       "      <th>3</th>\n",
       "      <td>4</td>\n",
       "      <td>34280 56th Street Bangor, MI</td>\n",
       "      <td>Medical</td>\n",
       "      <td>C</td>\n",
       "      <td>1500</td>\n",
       "      <td>2021-11-29</td>\n",
       "      <td>13.167265</td>\n",
       "      <td>0</td>\n",
       "    </tr>\n",
       "    <tr>\n",
       "      <th>4</th>\n",
       "      <td>5</td>\n",
       "      <td>21055 E M48 Detour, MI</td>\n",
       "      <td>Medical</td>\n",
       "      <td>C</td>\n",
       "      <td>1500</td>\n",
       "      <td>2021-08-09</td>\n",
       "      <td>9.354408</td>\n",
       "      <td>2</td>\n",
       "    </tr>\n",
       "  </tbody>\n",
       "</table>\n",
       "</div>"
      ],
      "text/plain": [
       "   Site No.                               Address  Med_Rec Grower Class  \\\n",
       "0         1  1680 B Marquette Avenue Bay City, MI  Medical            C   \n",
       "1         2   1204 West US Highway 2 Germfask, MI  Medical            C   \n",
       "2         3      1230 Mason Court Webberville, MI  Medical            C   \n",
       "3         4          34280 56th Street Bangor, MI  Medical            C   \n",
       "4         5                21055 E M48 Detour, MI  Medical            C   \n",
       "\n",
       "   Num Plants Harvest Date   Plant Oz  Crop Type  \n",
       "0        1500   2021-06-28   9.789889          2  \n",
       "1        1500   2021-05-17  10.198318          1  \n",
       "2        1500   2021-11-29  14.138249          0  \n",
       "3        1500   2021-11-29  13.167265          0  \n",
       "4        1500   2021-08-09   9.354408          2  "
      ]
     },
     "execution_count": 13,
     "metadata": {},
     "output_type": "execute_result"
    }
   ],
   "source": [
    "df_G.head()"
   ]
  },
  {
   "cell_type": "code",
   "execution_count": 14,
   "id": "7fabc426",
   "metadata": {},
   "outputs": [],
   "source": [
    "# conducts another cycle depending on date\n",
    "def cycle_again(df_inp):\n",
    "\n",
    "    start_date = []\n",
    "    \n",
    "    df = df_inp[df_inp['Harvest Date'] < simulation_end_year]  # get dataframe with only harvest dates less than the specified end date\n",
    "    start_date = (df['Harvest Date'] + timedelta(weeks = 3))  # weeks_off_bt_crops))  # set second round start dates \n",
    "    df = df.drop(['Harvest Date', 'Plant Oz'], axis=1)  # drop these columns because going to simulate a second time\n",
    "    \n",
    "    grow_duration = []\n",
    "    plant_size = []\n",
    "    \n",
    "    for i in df['Crop Type']:\n",
    "        grow_duration.append(timedelta(weeks=(np.random.normal(np.mean([df_A['Weeks to harvest (low)'][i], df_A['Weeks to harvest (high)'][i]])))))\n",
    "        plant_size.append(np.random.normal(np.mean([df_A['Ounces per plant (low)'][i], df_A['Ounces per plant (high)'][i]])))\n",
    "    \n",
    "    harvest_dates = []\n",
    "    harvest_dates = [start_date.iloc[j] + grow_duration[j] for j in np.arange(len(df['Crop Type']))]\n",
    "    \n",
    "    df['Harvest Date'] = harvest_dates  # put new dates and plant sizes back in df\n",
    "    df['Plant Oz'] = plant_size\n",
    "    \n",
    "    df_out = df\n",
    "    return df_out"
   ]
  },
  {
   "cell_type": "code",
   "execution_count": 15,
   "id": "bb167740",
   "metadata": {},
   "outputs": [],
   "source": [
    "i = 0\n",
    "df_2 = df_G"
   ]
  },
  {
   "cell_type": "code",
   "execution_count": 16,
   "id": "1d20485c",
   "metadata": {},
   "outputs": [
    {
     "name": "stdout",
     "output_type": "stream",
     "text": [
      "cycle:  0\n",
      "df_2  324\n",
      "df_G  648\n",
      "cycle:  1\n",
      "df_2  324\n",
      "df_G  972\n",
      "cycle:  2\n",
      "df_2  204\n",
      "df_G  1176\n",
      "cycle:  3\n",
      "df_2  204\n",
      "df_G  1380\n",
      "cycle:  4\n",
      "df_2  136\n",
      "df_G  1516\n",
      "cycle:  5\n",
      "df_2  16\n",
      "df_G  1532\n",
      "cycle:  6\n",
      "df_2  0\n",
      "df_G  1532\n"
     ]
    }
   ],
   "source": [
    "while df_2.shape[0] > 0:\n",
    "    print(\"cycle: \", i)\n",
    "    df_2 = cycle_again(df_2)\n",
    "    print(\"df_2 \", df_2.shape[0])\n",
    "    df_G = pd.concat([df_G, df_2], axis=0)\n",
    "    print(\"df_G \", df_G.shape[0])\n",
    "    i += 1"
   ]
  },
  {
   "cell_type": "code",
   "execution_count": 17,
   "id": "14be892e",
   "metadata": {},
   "outputs": [],
   "source": [
    "# fewer growers should be outdoors"
   ]
  },
  {
   "cell_type": "code",
   "execution_count": 18,
   "id": "2469f90f",
   "metadata": {},
   "outputs": [],
   "source": [
    "#df_all = pd.concat([df_G, df_in], axis=0)\n",
    "df_all = df_G"
   ]
  },
  {
   "cell_type": "code",
   "execution_count": 19,
   "id": "49761675",
   "metadata": {},
   "outputs": [
    {
     "data": {
      "text/html": [
       "<div>\n",
       "<style scoped>\n",
       "    .dataframe tbody tr th:only-of-type {\n",
       "        vertical-align: middle;\n",
       "    }\n",
       "\n",
       "    .dataframe tbody tr th {\n",
       "        vertical-align: top;\n",
       "    }\n",
       "\n",
       "    .dataframe thead th {\n",
       "        text-align: right;\n",
       "    }\n",
       "</style>\n",
       "<table border=\"1\" class=\"dataframe\">\n",
       "  <thead>\n",
       "    <tr style=\"text-align: right;\">\n",
       "      <th></th>\n",
       "      <th>Site No.</th>\n",
       "      <th>Address</th>\n",
       "      <th>Med_Rec</th>\n",
       "      <th>Grower Class</th>\n",
       "      <th>Num Plants</th>\n",
       "      <th>Harvest Date</th>\n",
       "      <th>Plant Oz</th>\n",
       "      <th>Crop Type</th>\n",
       "    </tr>\n",
       "  </thead>\n",
       "  <tbody>\n",
       "    <tr>\n",
       "      <th>0</th>\n",
       "      <td>1</td>\n",
       "      <td>1680 B Marquette Avenue Bay City, MI</td>\n",
       "      <td>Medical</td>\n",
       "      <td>C</td>\n",
       "      <td>1500</td>\n",
       "      <td>2021-06-28</td>\n",
       "      <td>9.789889</td>\n",
       "      <td>2</td>\n",
       "    </tr>\n",
       "    <tr>\n",
       "      <th>1</th>\n",
       "      <td>2</td>\n",
       "      <td>1204 West US Highway 2 Germfask, MI</td>\n",
       "      <td>Medical</td>\n",
       "      <td>C</td>\n",
       "      <td>1500</td>\n",
       "      <td>2021-05-17</td>\n",
       "      <td>10.198318</td>\n",
       "      <td>1</td>\n",
       "    </tr>\n",
       "    <tr>\n",
       "      <th>2</th>\n",
       "      <td>3</td>\n",
       "      <td>1230 Mason Court Webberville, MI</td>\n",
       "      <td>Medical</td>\n",
       "      <td>C</td>\n",
       "      <td>1500</td>\n",
       "      <td>2021-11-29</td>\n",
       "      <td>14.138249</td>\n",
       "      <td>0</td>\n",
       "    </tr>\n",
       "    <tr>\n",
       "      <th>3</th>\n",
       "      <td>4</td>\n",
       "      <td>34280 56th Street Bangor, MI</td>\n",
       "      <td>Medical</td>\n",
       "      <td>C</td>\n",
       "      <td>1500</td>\n",
       "      <td>2021-11-29</td>\n",
       "      <td>13.167265</td>\n",
       "      <td>0</td>\n",
       "    </tr>\n",
       "    <tr>\n",
       "      <th>4</th>\n",
       "      <td>5</td>\n",
       "      <td>21055 E M48 Detour, MI</td>\n",
       "      <td>Medical</td>\n",
       "      <td>C</td>\n",
       "      <td>1500</td>\n",
       "      <td>2021-08-09</td>\n",
       "      <td>9.354408</td>\n",
       "      <td>2</td>\n",
       "    </tr>\n",
       "  </tbody>\n",
       "</table>\n",
       "</div>"
      ],
      "text/plain": [
       "   Site No.                               Address  Med_Rec Grower Class  \\\n",
       "0         1  1680 B Marquette Avenue Bay City, MI  Medical            C   \n",
       "1         2   1204 West US Highway 2 Germfask, MI  Medical            C   \n",
       "2         3      1230 Mason Court Webberville, MI  Medical            C   \n",
       "3         4          34280 56th Street Bangor, MI  Medical            C   \n",
       "4         5                21055 E M48 Detour, MI  Medical            C   \n",
       "\n",
       "   Num Plants Harvest Date   Plant Oz  Crop Type  \n",
       "0        1500   2021-06-28   9.789889          2  \n",
       "1        1500   2021-05-17  10.198318          1  \n",
       "2        1500   2021-11-29  14.138249          0  \n",
       "3        1500   2021-11-29  13.167265          0  \n",
       "4        1500   2021-08-09   9.354408          2  "
      ]
     },
     "execution_count": 19,
     "metadata": {},
     "output_type": "execute_result"
    }
   ],
   "source": [
    "df_all.head()"
   ]
  },
  {
   "cell_type": "code",
   "execution_count": 20,
   "id": "b30a9a6c",
   "metadata": {},
   "outputs": [],
   "source": [
    "df_all['Harvest Amnt'] = df_all['Plant Oz'] * df_all['Num Plants'] * actual_yield_percentage"
   ]
  },
  {
   "cell_type": "code",
   "execution_count": 21,
   "id": "34c6337c",
   "metadata": {},
   "outputs": [],
   "source": [
    "# make a weekly plot\n",
    "# show results in pounds"
   ]
  },
  {
   "cell_type": "code",
   "execution_count": 22,
   "id": "0a167cb4",
   "metadata": {},
   "outputs": [],
   "source": [
    "df_all['Harvest Month'] = df_all['Harvest Date'].apply(lambda x: x.strftime('%Y-%m'))\n",
    "df_plot = df_all.groupby(by=['Harvest Month'])['Harvest Amnt'].sum().reset_index()"
   ]
  },
  {
   "cell_type": "code",
   "execution_count": 23,
   "id": "a1c145a4",
   "metadata": {},
   "outputs": [
    {
     "data": {
      "text/plain": [
       "'2023-03'"
      ]
     },
     "execution_count": 23,
     "metadata": {},
     "output_type": "execute_result"
    }
   ],
   "source": [
    "df_all['Harvest Month'].max()"
   ]
  },
  {
   "cell_type": "code",
   "execution_count": 24,
   "id": "5a908a09",
   "metadata": {},
   "outputs": [
    {
     "data": {
      "text/plain": [
       "Text(0, 0.5, 'Oz of Plant Harvested')"
      ]
     },
     "execution_count": 24,
     "metadata": {},
     "output_type": "execute_result"
    },
    {
     "data": {
      "image/png": "[encoded data removed]",
      "text/plain": [
       "<Figure size 432x288 with 1 Axes>"
      ]
     },
     "metadata": {
      "needs_background": "light"
     },
     "output_type": "display_data"
    }
   ],
   "source": [
    "plt.bar(df_plot['Harvest Month'], df_plot['Harvest Amnt'])\n",
    "plt.xlabel(\"Time\")\n",
    "plt.ylabel(\"Oz of Plant Harvested\")"
   ]
  },
  {
   "cell_type": "code",
   "execution_count": 25,
   "id": "4f8e6a1a",
   "metadata": {},
   "outputs": [],
   "source": [
    "df_out_in_in = df_all[df_all['Crop Type'] == 1]"
   ]
  },
  {
   "cell_type": "code",
   "execution_count": 26,
   "id": "a544335b",
   "metadata": {},
   "outputs": [
    {
     "data": {
      "text/plain": [
       "Text(0, 0.5, 'Ounces of Plant Harvested')"
      ]
     },
     "execution_count": 26,
     "metadata": {},
     "output_type": "execute_result"
    },
    {
     "data": {
      "image/png": "[encoded data removed]",
      "text/plain": [
       "<Figure size 432x288 with 1 Axes>"
      ]
     },
     "metadata": {
      "needs_background": "light"
     },
     "output_type": "display_data"
    }
   ],
   "source": [
    "plt.bar(df_out_in_in['Harvest Date'], df_out_in_in['Harvest Amnt']); plt.xlabel(\"Week of Year\"); plt.ylabel(\"Ounces of Plant Harvested\")"
   ]
  },
  {
   "cell_type": "code",
   "execution_count": 27,
   "id": "edb85df9",
   "metadata": {},
   "outputs": [],
   "source": [
    "x = 2"
   ]
  },
  {
   "cell_type": "code",
   "execution_count": null,
   "id": "6a1fad16",
   "metadata": {},
   "outputs": [],
   "source": []
  }
 ],
 "metadata": {
  "kernelspec": {
   "display_name": "Python 3 (ipykernel)",
   "language": "python",
   "name": "python3"
  },
  "language_info": {
   "codemirror_mode": {
    "name": "ipython",
    "version": 3
   },
   "file_extension": ".py",
   "mimetype": "text/x-python",
   "name": "python",
   "nbconvert_exporter": "python",
   "pygments_lexer": "ipython3",
   "version": "3.9.7"
  }
 },
 "nbformat": 4,
 "nbformat_minor": 5
}
