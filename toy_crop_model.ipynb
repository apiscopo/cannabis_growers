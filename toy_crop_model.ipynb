{
 "cells": [
  {
   "cell_type": "code",
   "execution_count": 1,
   "id": "8b9a336e",
   "metadata": {},
   "outputs": [],
   "source": [
    "import numpy as np"
   ]
  },
  {
   "cell_type": "code",
   "execution_count": 2,
   "id": "52d9d0a2",
   "metadata": {},
   "outputs": [],
   "source": [
    "import pandas as pd"
   ]
  },
  {
   "cell_type": "code",
   "execution_count": 3,
   "id": "18dbda3b",
   "metadata": {},
   "outputs": [],
   "source": [
    "from datetime import datetime"
   ]
  },
  {
   "cell_type": "code",
   "execution_count": 4,
   "id": "36db6e9b",
   "metadata": {
    "jupyter": {
     "source_hidden": true
    }
   },
   "outputs": [],
   "source": [
    "toy_data = {'Grower':['Bobby', 'Jess', 'Julio', 'Mark'],\n",
    "        'Day Planted':[20, 25, 19, 18],\n",
    "        'Amount':[5, 8, 6, 7], \n",
    "        'Expected Grow Time':[250, 245, 245, 245]}"
   ]
  },
  {
   "cell_type": "code",
   "execution_count": 5,
   "id": "ba802eba",
   "metadata": {},
   "outputs": [],
   "source": [
    "data_G = pd.read_csv(\"grower_list.csv\")"
   ]
  },
  {
   "cell_type": "code",
   "execution_count": 6,
   "id": "f13b8015",
   "metadata": {},
   "outputs": [],
   "source": [
    "df_G = pd.DataFrame(data_G)"
   ]
  },
  {
   "cell_type": "code",
   "execution_count": 7,
   "id": "acc11f92",
   "metadata": {},
   "outputs": [
    {
     "data": {
      "text/html": [
       "<div>\n",
       "<style scoped>\n",
       "    .dataframe tbody tr th:only-of-type {\n",
       "        vertical-align: middle;\n",
       "    }\n",
       "\n",
       "    .dataframe tbody tr th {\n",
       "        vertical-align: top;\n",
       "    }\n",
       "\n",
       "    .dataframe thead th {\n",
       "        text-align: right;\n",
       "    }\n",
       "</style>\n",
       "<table border=\"1\" class=\"dataframe\">\n",
       "  <thead>\n",
       "    <tr style=\"text-align: right;\">\n",
       "      <th></th>\n",
       "      <th>Site No.</th>\n",
       "      <th>Address</th>\n",
       "      <th>Med_Rec</th>\n",
       "      <th>Grower Class</th>\n",
       "      <th>Num Plants</th>\n",
       "    </tr>\n",
       "  </thead>\n",
       "  <tbody>\n",
       "    <tr>\n",
       "      <th>0</th>\n",
       "      <td>1</td>\n",
       "      <td>1680 B Marquette Avenue Bay City, MI</td>\n",
       "      <td>Medical</td>\n",
       "      <td>C</td>\n",
       "      <td>1500</td>\n",
       "    </tr>\n",
       "    <tr>\n",
       "      <th>1</th>\n",
       "      <td>2</td>\n",
       "      <td>1204 West US Highway 2 Germfask, MI</td>\n",
       "      <td>Medical</td>\n",
       "      <td>C</td>\n",
       "      <td>1500</td>\n",
       "    </tr>\n",
       "    <tr>\n",
       "      <th>2</th>\n",
       "      <td>3</td>\n",
       "      <td>1230 Mason Court Webberville, MI</td>\n",
       "      <td>Medical</td>\n",
       "      <td>C</td>\n",
       "      <td>1500</td>\n",
       "    </tr>\n",
       "    <tr>\n",
       "      <th>3</th>\n",
       "      <td>4</td>\n",
       "      <td>34280 56th Street Bangor, MI</td>\n",
       "      <td>Medical</td>\n",
       "      <td>C</td>\n",
       "      <td>1500</td>\n",
       "    </tr>\n",
       "    <tr>\n",
       "      <th>4</th>\n",
       "      <td>5</td>\n",
       "      <td>21055 E M48 Detour, MI</td>\n",
       "      <td>Medical</td>\n",
       "      <td>C</td>\n",
       "      <td>1500</td>\n",
       "    </tr>\n",
       "  </tbody>\n",
       "</table>\n",
       "</div>"
      ],
      "text/plain": [
       "   Site No.                               Address  Med_Rec Grower Class  \\\n",
       "0         1  1680 B Marquette Avenue Bay City, MI  Medical            C   \n",
       "1         2   1204 West US Highway 2 Germfask, MI  Medical            C   \n",
       "2         3      1230 Mason Court Webberville, MI  Medical            C   \n",
       "3         4          34280 56th Street Bangor, MI  Medical            C   \n",
       "4         5                21055 E M48 Detour, MI  Medical            C   \n",
       "\n",
       "   Num Plants  \n",
       "0        1500  \n",
       "1        1500  \n",
       "2        1500  \n",
       "3        1500  \n",
       "4        1500  "
      ]
     },
     "execution_count": 7,
     "metadata": {},
     "output_type": "execute_result"
    }
   ],
   "source": [
    "df_G.head()"
   ]
  },
  {
   "cell_type": "code",
   "execution_count": 8,
   "id": "3faa9285",
   "metadata": {},
   "outputs": [],
   "source": [
    "df_A = pd.read_csv(\"assumptions.csv\")"
   ]
  },
  {
   "cell_type": "code",
   "execution_count": 9,
   "id": "f8618216",
   "metadata": {},
   "outputs": [
    {
     "data": {
      "text/html": [
       "<div>\n",
       "<style scoped>\n",
       "    .dataframe tbody tr th:only-of-type {\n",
       "        vertical-align: middle;\n",
       "    }\n",
       "\n",
       "    .dataframe tbody tr th {\n",
       "        vertical-align: top;\n",
       "    }\n",
       "\n",
       "    .dataframe thead th {\n",
       "        text-align: right;\n",
       "    }\n",
       "</style>\n",
       "<table border=\"1\" class=\"dataframe\">\n",
       "  <thead>\n",
       "    <tr style=\"text-align: right;\">\n",
       "      <th></th>\n",
       "      <th>#</th>\n",
       "      <th>Grow type</th>\n",
       "      <th>Weeks to harvest (low)</th>\n",
       "      <th>Weeks to harvest (high)</th>\n",
       "      <th>Begin week (low)</th>\n",
       "      <th>Begin week (high)</th>\n",
       "      <th>Ounces per plant (low)</th>\n",
       "      <th>Ounces per plant (high)</th>\n",
       "    </tr>\n",
       "  </thead>\n",
       "  <tbody>\n",
       "    <tr>\n",
       "      <th>0</th>\n",
       "      <td>1</td>\n",
       "      <td>Outdoor</td>\n",
       "      <td>24</td>\n",
       "      <td>32</td>\n",
       "      <td>13</td>\n",
       "      <td>24</td>\n",
       "      <td>10</td>\n",
       "      <td>17</td>\n",
       "    </tr>\n",
       "    <tr>\n",
       "      <th>1</th>\n",
       "      <td>2</td>\n",
       "      <td>Indoor - seed</td>\n",
       "      <td>12</td>\n",
       "      <td>16</td>\n",
       "      <td>1</td>\n",
       "      <td>26</td>\n",
       "      <td>5</td>\n",
       "      <td>15</td>\n",
       "    </tr>\n",
       "    <tr>\n",
       "      <th>2</th>\n",
       "      <td>3</td>\n",
       "      <td>Indoor - clone</td>\n",
       "      <td>9</td>\n",
       "      <td>16</td>\n",
       "      <td>1</td>\n",
       "      <td>26</td>\n",
       "      <td>5</td>\n",
       "      <td>15</td>\n",
       "    </tr>\n",
       "  </tbody>\n",
       "</table>\n",
       "</div>"
      ],
      "text/plain": [
       "   #       Grow type  Weeks to harvest (low)  Weeks to harvest (high)  \\\n",
       "0  1         Outdoor                      24                       32   \n",
       "1  2   Indoor - seed                      12                       16   \n",
       "2  3  Indoor - clone                       9                       16   \n",
       "\n",
       "   Begin week (low)  Begin week (high)  Ounces per plant (low)  \\\n",
       "0                13                 24                      10   \n",
       "1                 1                 26                       5   \n",
       "2                 1                 26                       5   \n",
       "\n",
       "   Ounces per plant (high)  \n",
       "0                       17  \n",
       "1                       15  \n",
       "2                       15  "
      ]
     },
     "execution_count": 9,
     "metadata": {},
     "output_type": "execute_result"
    }
   ],
   "source": [
    "df_A"
   ]
  },
  {
   "cell_type": "code",
   "execution_count": 10,
   "id": "bd766af0",
   "metadata": {},
   "outputs": [],
   "source": [
    "np.random.seed(int(datetime.now().timestamp()))"
   ]
  },
  {
   "cell_type": "code",
   "execution_count": 11,
   "id": "d9c643ef",
   "metadata": {},
   "outputs": [],
   "source": [
    "random = np.random.randint(0, 3, size=len(df_G))"
   ]
  },
  {
   "cell_type": "code",
   "execution_count": 12,
   "id": "ea740cec",
   "metadata": {},
   "outputs": [],
   "source": [
    "start = []; grow_time = []; plant_size = [];"
   ]
  },
  {
   "cell_type": "code",
   "execution_count": 13,
   "id": "7676a6a4",
   "metadata": {
    "jupyter": {
     "source_hidden": true
    }
   },
   "outputs": [],
   "source": [
    "# for i in random:\n",
    "#     if i == 0: \n",
    "#         start.append(np.random.normal(np.mean([df_A['Begin week (low)'][0], df_A['Begin week (high)'][0]])))\n",
    "#         grow_time.append(np.random.normal(np.mean([df_A['Weeks to harvest (low)'][0], df_A['Weeks to harvest (high)'][0]])))\n",
    "#         plant_size.append(np.random.normal(np.mean([df_A['Ounces per plant (low)'][0], df_A['Ounces per plant (high)'][0]])))\n",
    "#     elif i == 1:\n",
    "#         start.append(np.random.normal(np.mean([df_A['Begin week (low)'][1], df_A['Begin week (high)'][1]]))) \n",
    "#         grow_time.append(np.random.normal(np.mean([df_A['Weeks to harvest (low)'][1], df_A['Weeks to harvest (high)'][1]])))\n",
    "#         plant_size.append(np.random.normal(np.mean([df_A['Ounces per plant (low)'][1], df_A['Ounces per plant (high)'][1]])))\n",
    "#     else:\n",
    "#         start.append(np.random.normal(np.mean([df_A['Begin week (low)'][2], df_A['Begin week (high)'][2]])))\n",
    "#         grow_time.append(np.random.normal(np.mean([df_A['Weeks to harvest (low)'][2], df_A['Weeks to harvest (high)'][2]])))\n",
    "#         plant_size.append(np.random.normal(np.mean([df_A['Ounces per plant (low)'][2], df_A['Ounces per plant (high)'][2]])))"
   ]
  },
  {
   "cell_type": "code",
   "execution_count": 14,
   "id": "3c294b30",
   "metadata": {},
   "outputs": [],
   "source": [
    "for i in random:\n",
    "    start.append(np.random.uniform(np.mean([df_A['Begin week (low)'][i], df_A['Begin week (high)'][i]])))\n",
    "    grow_time.append(np.random.normal(np.mean([df_A['Weeks to harvest (low)'][i], df_A['Weeks to harvest (high)'][i]])))\n",
    "    plant_size.append(np.random.normal(np.mean([df_A['Ounces per plant (low)'][i], df_A['Ounces per plant (high)'][i]])))"
   ]
  },
  {
   "cell_type": "code",
   "execution_count": 15,
   "id": "ac29f559",
   "metadata": {},
   "outputs": [],
   "source": [
    "df_G['Start Date'] = np.round(start).astype(int)"
   ]
  },
  {
   "cell_type": "code",
   "execution_count": 16,
   "id": "eb1389a4",
   "metadata": {},
   "outputs": [],
   "source": [
    "df_G['Grow Time'] = np.round(grow_time)"
   ]
  },
  {
   "cell_type": "code",
   "execution_count": 17,
   "id": "49e8483e",
   "metadata": {},
   "outputs": [],
   "source": [
    "df_G['Plant Size'] = np.round(plant_size)"
   ]
  },
  {
   "cell_type": "code",
   "execution_count": 18,
   "id": "c6b873a2",
   "metadata": {},
   "outputs": [],
   "source": [
    "df_G['Harvest Date'] = (df_G['Start Date'] + df_G['Grow Time']).astype(int)"
   ]
  },
  {
   "cell_type": "code",
   "execution_count": 19,
   "id": "3dbc64b5",
   "metadata": {},
   "outputs": [
    {
     "data": {
      "text/html": [
       "<div>\n",
       "<style scoped>\n",
       "    .dataframe tbody tr th:only-of-type {\n",
       "        vertical-align: middle;\n",
       "    }\n",
       "\n",
       "    .dataframe tbody tr th {\n",
       "        vertical-align: top;\n",
       "    }\n",
       "\n",
       "    .dataframe thead th {\n",
       "        text-align: right;\n",
       "    }\n",
       "</style>\n",
       "<table border=\"1\" class=\"dataframe\">\n",
       "  <thead>\n",
       "    <tr style=\"text-align: right;\">\n",
       "      <th></th>\n",
       "      <th>Site No.</th>\n",
       "      <th>Address</th>\n",
       "      <th>Med_Rec</th>\n",
       "      <th>Grower Class</th>\n",
       "      <th>Num Plants</th>\n",
       "      <th>Start Date</th>\n",
       "      <th>Grow Time</th>\n",
       "      <th>Plant Size</th>\n",
       "      <th>Harvest Date</th>\n",
       "    </tr>\n",
       "  </thead>\n",
       "  <tbody>\n",
       "    <tr>\n",
       "      <th>0</th>\n",
       "      <td>1</td>\n",
       "      <td>1680 B Marquette Avenue Bay City, MI</td>\n",
       "      <td>Medical</td>\n",
       "      <td>C</td>\n",
       "      <td>1500</td>\n",
       "      <td>13</td>\n",
       "      <td>14.0</td>\n",
       "      <td>10.0</td>\n",
       "      <td>27</td>\n",
       "    </tr>\n",
       "    <tr>\n",
       "      <th>1</th>\n",
       "      <td>2</td>\n",
       "      <td>1204 West US Highway 2 Germfask, MI</td>\n",
       "      <td>Medical</td>\n",
       "      <td>C</td>\n",
       "      <td>1500</td>\n",
       "      <td>9</td>\n",
       "      <td>14.0</td>\n",
       "      <td>9.0</td>\n",
       "      <td>23</td>\n",
       "    </tr>\n",
       "    <tr>\n",
       "      <th>2</th>\n",
       "      <td>3</td>\n",
       "      <td>1230 Mason Court Webberville, MI</td>\n",
       "      <td>Medical</td>\n",
       "      <td>C</td>\n",
       "      <td>1500</td>\n",
       "      <td>5</td>\n",
       "      <td>11.0</td>\n",
       "      <td>9.0</td>\n",
       "      <td>16</td>\n",
       "    </tr>\n",
       "    <tr>\n",
       "      <th>3</th>\n",
       "      <td>4</td>\n",
       "      <td>34280 56th Street Bangor, MI</td>\n",
       "      <td>Medical</td>\n",
       "      <td>C</td>\n",
       "      <td>1500</td>\n",
       "      <td>3</td>\n",
       "      <td>14.0</td>\n",
       "      <td>11.0</td>\n",
       "      <td>17</td>\n",
       "    </tr>\n",
       "    <tr>\n",
       "      <th>4</th>\n",
       "      <td>5</td>\n",
       "      <td>21055 E M48 Detour, MI</td>\n",
       "      <td>Medical</td>\n",
       "      <td>C</td>\n",
       "      <td>1500</td>\n",
       "      <td>4</td>\n",
       "      <td>13.0</td>\n",
       "      <td>9.0</td>\n",
       "      <td>17</td>\n",
       "    </tr>\n",
       "  </tbody>\n",
       "</table>\n",
       "</div>"
      ],
      "text/plain": [
       "   Site No.                               Address  Med_Rec Grower Class  \\\n",
       "0         1  1680 B Marquette Avenue Bay City, MI  Medical            C   \n",
       "1         2   1204 West US Highway 2 Germfask, MI  Medical            C   \n",
       "2         3      1230 Mason Court Webberville, MI  Medical            C   \n",
       "3         4          34280 56th Street Bangor, MI  Medical            C   \n",
       "4         5                21055 E M48 Detour, MI  Medical            C   \n",
       "\n",
       "   Num Plants  Start Date  Grow Time  Plant Size  Harvest Date  \n",
       "0        1500          13       14.0        10.0            27  \n",
       "1        1500           9       14.0         9.0            23  \n",
       "2        1500           5       11.0         9.0            16  \n",
       "3        1500           3       14.0        11.0            17  \n",
       "4        1500           4       13.0         9.0            17  "
      ]
     },
     "execution_count": 19,
     "metadata": {},
     "output_type": "execute_result"
    }
   ],
   "source": [
    "df_G.head()"
   ]
  },
  {
   "cell_type": "code",
   "execution_count": 20,
   "id": "b328dbe3",
   "metadata": {},
   "outputs": [
    {
     "data": {
      "text/html": [
       "<div>\n",
       "<style scoped>\n",
       "    .dataframe tbody tr th:only-of-type {\n",
       "        vertical-align: middle;\n",
       "    }\n",
       "\n",
       "    .dataframe tbody tr th {\n",
       "        vertical-align: top;\n",
       "    }\n",
       "\n",
       "    .dataframe thead th {\n",
       "        text-align: right;\n",
       "    }\n",
       "</style>\n",
       "<table border=\"1\" class=\"dataframe\">\n",
       "  <thead>\n",
       "    <tr style=\"text-align: right;\">\n",
       "      <th></th>\n",
       "      <th>Site No.</th>\n",
       "      <th>Address</th>\n",
       "      <th>Med_Rec</th>\n",
       "      <th>Grower Class</th>\n",
       "      <th>Num Plants</th>\n",
       "      <th>Start Date</th>\n",
       "      <th>Grow Time</th>\n",
       "      <th>Plant Size</th>\n",
       "      <th>Harvest Date</th>\n",
       "    </tr>\n",
       "  </thead>\n",
       "  <tbody>\n",
       "    <tr>\n",
       "      <th>219</th>\n",
       "      <td>220</td>\n",
       "      <td>651 Eden Way Chesaning, MI</td>\n",
       "      <td>Medical</td>\n",
       "      <td>C</td>\n",
       "      <td>1500</td>\n",
       "      <td>1</td>\n",
       "      <td>12.0</td>\n",
       "      <td>11.0</td>\n",
       "      <td>13</td>\n",
       "    </tr>\n",
       "    <tr>\n",
       "      <th>269</th>\n",
       "      <td>270</td>\n",
       "      <td>1060 River Road West Battle Creek, MI</td>\n",
       "      <td>Medical</td>\n",
       "      <td>B</td>\n",
       "      <td>1000</td>\n",
       "      <td>1</td>\n",
       "      <td>12.0</td>\n",
       "      <td>10.0</td>\n",
       "      <td>13</td>\n",
       "    </tr>\n",
       "    <tr>\n",
       "      <th>53</th>\n",
       "      <td>54</td>\n",
       "      <td>206 West Park Drive Kalkaska, MI</td>\n",
       "      <td>Medical</td>\n",
       "      <td>C</td>\n",
       "      <td>1500</td>\n",
       "      <td>2</td>\n",
       "      <td>11.0</td>\n",
       "      <td>10.0</td>\n",
       "      <td>13</td>\n",
       "    </tr>\n",
       "    <tr>\n",
       "      <th>9</th>\n",
       "      <td>10</td>\n",
       "      <td>707 Industrial Park Drive Bangor, MI</td>\n",
       "      <td>Medical</td>\n",
       "      <td>A</td>\n",
       "      <td>500</td>\n",
       "      <td>2</td>\n",
       "      <td>11.0</td>\n",
       "      <td>9.0</td>\n",
       "      <td>13</td>\n",
       "    </tr>\n",
       "    <tr>\n",
       "      <th>197</th>\n",
       "      <td>198</td>\n",
       "      <td>24685 County Road 681 RD Arlington,MI 49013</td>\n",
       "      <td>Adult</td>\n",
       "      <td>C</td>\n",
       "      <td>1500</td>\n",
       "      <td>2</td>\n",
       "      <td>11.0</td>\n",
       "      <td>10.0</td>\n",
       "      <td>13</td>\n",
       "    </tr>\n",
       "  </tbody>\n",
       "</table>\n",
       "</div>"
      ],
      "text/plain": [
       "     Site No.                                      Address  Med_Rec  \\\n",
       "219       220                   651 Eden Way Chesaning, MI  Medical   \n",
       "269       270        1060 River Road West Battle Creek, MI  Medical   \n",
       "53         54             206 West Park Drive Kalkaska, MI  Medical   \n",
       "9          10         707 Industrial Park Drive Bangor, MI  Medical   \n",
       "197       198  24685 County Road 681 RD Arlington,MI 49013    Adult   \n",
       "\n",
       "    Grower Class  Num Plants  Start Date  Grow Time  Plant Size  Harvest Date  \n",
       "219            C        1500           1       12.0        11.0            13  \n",
       "269            B        1000           1       12.0        10.0            13  \n",
       "53             C        1500           2       11.0        10.0            13  \n",
       "9              A         500           2       11.0         9.0            13  \n",
       "197            C        1500           2       11.0        10.0            13  "
      ]
     },
     "execution_count": 20,
     "metadata": {},
     "output_type": "execute_result"
    }
   ],
   "source": [
    "df_G.sort_values(by=['Harvest Date']).head()"
   ]
  },
  {
   "cell_type": "code",
   "execution_count": 21,
   "id": "e78700fd",
   "metadata": {},
   "outputs": [
    {
     "data": {
      "text/html": [
       "<div>\n",
       "<style scoped>\n",
       "    .dataframe tbody tr th:only-of-type {\n",
       "        vertical-align: middle;\n",
       "    }\n",
       "\n",
       "    .dataframe tbody tr th {\n",
       "        vertical-align: top;\n",
       "    }\n",
       "\n",
       "    .dataframe thead th {\n",
       "        text-align: right;\n",
       "    }\n",
       "</style>\n",
       "<table border=\"1\" class=\"dataframe\">\n",
       "  <thead>\n",
       "    <tr style=\"text-align: right;\">\n",
       "      <th></th>\n",
       "      <th>Harvest Date</th>\n",
       "      <th>Plant Size</th>\n",
       "    </tr>\n",
       "  </thead>\n",
       "  <tbody>\n",
       "    <tr>\n",
       "      <th>0</th>\n",
       "      <td>13</td>\n",
       "      <td>50.0</td>\n",
       "    </tr>\n",
       "    <tr>\n",
       "      <th>1</th>\n",
       "      <td>14</td>\n",
       "      <td>61.0</td>\n",
       "    </tr>\n",
       "    <tr>\n",
       "      <th>2</th>\n",
       "      <td>15</td>\n",
       "      <td>97.0</td>\n",
       "    </tr>\n",
       "    <tr>\n",
       "      <th>3</th>\n",
       "      <td>16</td>\n",
       "      <td>165.0</td>\n",
       "    </tr>\n",
       "    <tr>\n",
       "      <th>4</th>\n",
       "      <td>17</td>\n",
       "      <td>245.0</td>\n",
       "    </tr>\n",
       "  </tbody>\n",
       "</table>\n",
       "</div>"
      ],
      "text/plain": [
       "   Harvest Date  Plant Size\n",
       "0            13        50.0\n",
       "1            14        61.0\n",
       "2            15        97.0\n",
       "3            16       165.0\n",
       "4            17       245.0"
      ]
     },
     "execution_count": 21,
     "metadata": {},
     "output_type": "execute_result"
    }
   ],
   "source": [
    "df_G.groupby(by=['Harvest Date'])['Plant Size'].sum().reset_index().head()"
   ]
  },
  {
   "cell_type": "code",
   "execution_count": 22,
   "id": "fd27ea3a",
   "metadata": {},
   "outputs": [],
   "source": [
    "import matplotlib.pyplot as plt"
   ]
  },
  {
   "cell_type": "code",
   "execution_count": 23,
   "id": "e6894734",
   "metadata": {},
   "outputs": [
    {
     "data": {
      "text/plain": [
       "Text(0, 0.5, 'Ounces of Plant Harvested')"
      ]
     },
     "execution_count": 23,
     "metadata": {},
     "output_type": "execute_result"
    },
    {
     "data": {
      "image/png": "[encoded data removed]",
      "text/plain": [
       "<Figure size 432x288 with 1 Axes>"
      ]
     },
     "metadata": {
      "needs_background": "light"
     },
     "output_type": "display_data"
    }
   ],
   "source": [
    "plt.bar(df_G['Harvest Date'], df_G['Plant Size']); plt.xlabel(\"Week of Year\"); plt.ylabel(\"Ounces of Plant Harvested\")"
   ]
  },
  {
   "cell_type": "code",
   "execution_count": null,
   "id": "4da94c55",
   "metadata": {},
   "outputs": [],
   "source": []
  }
 ],
 "metadata": {
  "kernelspec": {
   "display_name": "Python 3 (ipykernel)",
   "language": "python",
   "name": "python3"
  },
  "language_info": {
   "codemirror_mode": {
    "name": "ipython",
    "version": 3
   },
   "file_extension": ".py",
   "mimetype": "text/x-python",
   "name": "python",
   "nbconvert_exporter": "python",
   "pygments_lexer": "ipython3",
   "version": "3.9.7"
  }
 },
 "nbformat": 4,
 "nbformat_minor": 5
}
